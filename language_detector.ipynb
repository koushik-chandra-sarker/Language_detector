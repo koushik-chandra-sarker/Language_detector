{
 "cells": [
  {
   "cell_type": "code",
   "execution_count": null,
   "metadata": {
    "collapsed": true
   },
   "outputs": [],
   "source": []
  },
  {
   "cell_type": "code",
   "execution_count": null,
   "outputs": [],
   "source": [
    "# make a function that detects the language of a text from my previous coplot history\n",
    "\n",
    "import pandas as pd\n",
    "from sklearn.model_selection import train_test_split\n",
    "from sklearn.linear_model import LogisticRegression\n",
    "from sklearn.feature_extraction.text import CountVectorizer\n",
    "from sklearn.naive_bayes import MultinomialNB\n",
    "from sklearn.naive_bayes import MultinomialNB\n",
    "from sklearn.neighbors import KNeighborsClassifier\n",
    "from sklearn.svm import SVC\n",
    "from sklearn.tree import DecisionTreeClassifier\n",
    "\n",
    "dataset = pd.read_csv('data/labeled/final_dataset.csv')\n",
    "x_train, x_test, y_train, y_test = train_test_split(dataset[\"text\"], dataset.language, test_size=0.20, random_state=1)\n",
    "cv = CountVectorizer()\n",
    "x_train = cv.fit_transform(x_train)\n",
    "x_test = cv.transform(x_test)\n",
    "MNB = MultinomialNB()\n",
    "MNB.fit(x_train, y_train)\n",
    "print(\"MNB: \", MNB.score(x_test, y_test))\n",
    "LR = LogisticRegression(max_iter=200)\n",
    "LR.fit(x_train, y_train)\n",
    "print(\"LR: \", LR.score(x_test, y_test))\n",
    "DT = DecisionTreeClassifier()\n",
    "DT.fit(x_train, y_train)\n",
    "print(\"DT: \", DT.score(x_test, y_test))\n",
    "KNN = KNeighborsClassifier(n_neighbors=3)\n",
    "KNN.fit(x_train, y_train)\n",
    "print(\"KNN: \", KNN.score(x_test, y_test))\n",
    "SVM = SVC(kernel='linear')\n",
    "SVM.fit(x_train, y_train)\n",
    "print(\"SVM: \", SVM.score(x_test, y_test))\n"
   ],
   "metadata": {
    "collapsed": false
   }
  },
  {
   "cell_type": "code",
   "execution_count": null,
   "outputs": [],
   "source": [
    "\n",
    "# def language_detector(text):\n",
    "#     text = cv.transform([text])\n",
    "#     return MNB.predict(text)\n",
    "# print(language_detector(\"আমি ভালো আছি\"))\n"
   ],
   "metadata": {
    "collapsed": false
   }
  }
 ],
 "metadata": {
  "kernelspec": {
   "display_name": "Python 3",
   "language": "python",
   "name": "python3"
  },
  "language_info": {
   "codemirror_mode": {
    "name": "ipython",
    "version": 2
   },
   "file_extension": ".py",
   "mimetype": "text/x-python",
   "name": "python",
   "nbconvert_exporter": "python",
   "pygments_lexer": "ipython2",
   "version": "2.7.6"
  }
 },
 "nbformat": 4,
 "nbformat_minor": 0
}
