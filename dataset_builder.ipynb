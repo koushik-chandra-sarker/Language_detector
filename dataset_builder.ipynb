{
 "cells": [
  {
   "cell_type": "code",
   "execution_count": 1,
   "metadata": {
    "collapsed": true,
    "pycharm": {
     "name": "#%%\n"
    }
   },
   "outputs": [],
   "source": [
    "import pandas as pd"
   ]
  },
  {
   "cell_type": "code",
   "execution_count": 3,
   "outputs": [
    {
     "data": {
      "text/plain": "                             লিস্ট ফাকা জলদি আড দেন মামা \n0          ভালবাসার গল্প পড়তে এই পেইজে লাইক দেন বন্ধুত্ব \n1                           আমার অভিনিত অভিনয়ে সুযোগ চাই \n2                   না বলা ভালোবাসা কিন্তু খুবই ভাল পোলা \n3                           আবারও লেট হয়ছে মিনিট সেকেন্ড \n4        জগন্নাথের শিক্ষার্থীরা এটা মেনে নিবে না। এটা ...\n...                                                   ...\n299994   নাউযুবিল্লাহ মুসলমান হয়ে এরকম একজন দুচরিত্রাক...\n299995   এই সালারা সব ফাজিল চোদা যতসব ফালতু চোদা নিউজ ...\n299996              বিয়ে করে হক পথে আনো তাহলে আপত্তি নাই \n299997   ফেসবুকটা ভুয়া খবর প্রচার কইরা খাইলো এই খানকির...\n299998   অ ভাই আমির ও কে বিয়ে করে কোন লাভ নাই ওর মাঝে ...\n\n[299999 rows x 1 columns]",
      "text/html": "<div>\n<style scoped>\n    .dataframe tbody tr th:only-of-type {\n        vertical-align: middle;\n    }\n\n    .dataframe tbody tr th {\n        vertical-align: top;\n    }\n\n    .dataframe thead th {\n        text-align: right;\n    }\n</style>\n<table border=\"1\" class=\"dataframe\">\n  <thead>\n    <tr style=\"text-align: right;\">\n      <th></th>\n      <th>লিস্ট ফাকা জলদি আড দেন মামা</th>\n    </tr>\n  </thead>\n  <tbody>\n    <tr>\n      <th>0</th>\n      <td>ভালবাসার গল্প পড়তে এই পেইজে লাইক দেন বন্ধুত্ব</td>\n    </tr>\n    <tr>\n      <th>1</th>\n      <td>আমার অভিনিত অভিনয়ে সুযোগ চাই</td>\n    </tr>\n    <tr>\n      <th>2</th>\n      <td>না বলা ভালোবাসা কিন্তু খুবই ভাল পোলা</td>\n    </tr>\n    <tr>\n      <th>3</th>\n      <td>আবারও লেট হয়ছে মিনিট সেকেন্ড</td>\n    </tr>\n    <tr>\n      <th>4</th>\n      <td>জগন্নাথের শিক্ষার্থীরা এটা মেনে নিবে না। এটা ...</td>\n    </tr>\n    <tr>\n      <th>...</th>\n      <td>...</td>\n    </tr>\n    <tr>\n      <th>299994</th>\n      <td>নাউযুবিল্লাহ মুসলমান হয়ে এরকম একজন দুচরিত্রাক...</td>\n    </tr>\n    <tr>\n      <th>299995</th>\n      <td>এই সালারা সব ফাজিল চোদা যতসব ফালতু চোদা নিউজ ...</td>\n    </tr>\n    <tr>\n      <th>299996</th>\n      <td>বিয়ে করে হক পথে আনো তাহলে আপত্তি নাই</td>\n    </tr>\n    <tr>\n      <th>299997</th>\n      <td>ফেসবুকটা ভুয়া খবর প্রচার কইরা খাইলো এই খানকির...</td>\n    </tr>\n    <tr>\n      <th>299998</th>\n      <td>অ ভাই আমির ও কে বিয়ে করে কোন লাভ নাই ওর মাঝে ...</td>\n    </tr>\n  </tbody>\n</table>\n<p>299999 rows × 1 columns</p>\n</div>"
     },
     "execution_count": 3,
     "metadata": {},
     "output_type": "execute_result"
    }
   ],
   "source": [
    "bangla_unlabeled_dataset = pd.read_csv(\"data/bangla_unlabeled.csv\")\n",
    "bangla_unlabeled_dataset\n",
    "\n",
    "\n"
   ],
   "metadata": {
    "collapsed": false,
    "pycharm": {
     "name": "#%%\n"
    }
   }
  }
 ],
 "metadata": {
  "kernelspec": {
   "display_name": "Python 3",
   "language": "python",
   "name": "python3"
  },
  "language_info": {
   "codemirror_mode": {
    "name": "ipython",
    "version": 2
   },
   "file_extension": ".py",
   "mimetype": "text/x-python",
   "name": "python",
   "nbconvert_exporter": "python",
   "pygments_lexer": "ipython2",
   "version": "2.7.6"
  }
 },
 "nbformat": 4,
 "nbformat_minor": 0
}