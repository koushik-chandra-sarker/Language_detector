{
 "cells": [
  {
   "cell_type": "code",
   "execution_count": 2,
   "metadata": {
    "collapsed": true,
    "pycharm": {
     "name": "#%%\n"
    }
   },
   "outputs": [],
   "source": [
    "import pandas as pd"
   ]
  },
  {
   "cell_type": "code",
   "execution_count": 108,
   "outputs": [
    {
     "data": {
      "text/plain": "                                                     text language\n0          ভালবাসার গল্প পড়তে এই পেইজে লাইক দেন বন্ধুত্ব    bangla\n1                           আমার অভিনিত অভিনয়ে সুযোগ চাই    bangla\n2                   না বলা ভালোবাসা কিন্তু খুবই ভাল পোলা    bangla\n3                           আবারও লেট হয়ছে মিনিট সেকেন্ড    bangla\n4        জগন্নাথের শিক্ষার্থীরা এটা মেনে নিবে না। এটা ...   bangla\n...                                                   ...      ...\n299994   নাউযুবিল্লাহ মুসলমান হয়ে এরকম একজন দুচরিত্রাক...   bangla\n299995   এই সালারা সব ফাজিল চোদা যতসব ফালতু চোদা নিউজ ...   bangla\n299996              বিয়ে করে হক পথে আনো তাহলে আপত্তি নাই    bangla\n299997   ফেসবুকটা ভুয়া খবর প্রচার কইরা খাইলো এই খানকির...   bangla\n299998   অ ভাই আমির ও কে বিয়ে করে কোন লাভ নাই ওর মাঝে ...   bangla\n\n[299999 rows x 2 columns]",
      "text/html": "<div>\n<style scoped>\n    .dataframe tbody tr th:only-of-type {\n        vertical-align: middle;\n    }\n\n    .dataframe tbody tr th {\n        vertical-align: top;\n    }\n\n    .dataframe thead th {\n        text-align: right;\n    }\n</style>\n<table border=\"1\" class=\"dataframe\">\n  <thead>\n    <tr style=\"text-align: right;\">\n      <th></th>\n      <th>text</th>\n      <th>language</th>\n    </tr>\n  </thead>\n  <tbody>\n    <tr>\n      <th>0</th>\n      <td>ভালবাসার গল্প পড়তে এই পেইজে লাইক দেন বন্ধুত্ব</td>\n      <td>bangla</td>\n    </tr>\n    <tr>\n      <th>1</th>\n      <td>আমার অভিনিত অভিনয়ে সুযোগ চাই</td>\n      <td>bangla</td>\n    </tr>\n    <tr>\n      <th>2</th>\n      <td>না বলা ভালোবাসা কিন্তু খুবই ভাল পোলা</td>\n      <td>bangla</td>\n    </tr>\n    <tr>\n      <th>3</th>\n      <td>আবারও লেট হয়ছে মিনিট সেকেন্ড</td>\n      <td>bangla</td>\n    </tr>\n    <tr>\n      <th>4</th>\n      <td>জগন্নাথের শিক্ষার্থীরা এটা মেনে নিবে না। এটা ...</td>\n      <td>bangla</td>\n    </tr>\n    <tr>\n      <th>...</th>\n      <td>...</td>\n      <td>...</td>\n    </tr>\n    <tr>\n      <th>299994</th>\n      <td>নাউযুবিল্লাহ মুসলমান হয়ে এরকম একজন দুচরিত্রাক...</td>\n      <td>bangla</td>\n    </tr>\n    <tr>\n      <th>299995</th>\n      <td>এই সালারা সব ফাজিল চোদা যতসব ফালতু চোদা নিউজ ...</td>\n      <td>bangla</td>\n    </tr>\n    <tr>\n      <th>299996</th>\n      <td>বিয়ে করে হক পথে আনো তাহলে আপত্তি নাই</td>\n      <td>bangla</td>\n    </tr>\n    <tr>\n      <th>299997</th>\n      <td>ফেসবুকটা ভুয়া খবর প্রচার কইরা খাইলো এই খানকির...</td>\n      <td>bangla</td>\n    </tr>\n    <tr>\n      <th>299998</th>\n      <td>অ ভাই আমির ও কে বিয়ে করে কোন লাভ নাই ওর মাঝে ...</td>\n      <td>bangla</td>\n    </tr>\n  </tbody>\n</table>\n<p>299999 rows × 2 columns</p>\n</div>"
     },
     "execution_count": 108,
     "metadata": {},
     "output_type": "execute_result"
    }
   ],
   "source": [
    "bangla_unlabeled_dataset = pd.read_csv(\"data/bangla_unlabeled.csv\")\n",
    "bangla_unlabeled_dataset.columns = [\"text\"]\n",
    "bangla_unlabeled_dataset[\"language\"] = \"bangla\"\n",
    "bangla_unlabeled_dataset.to_csv('data/labeled/bangla_labeled.csv', index=False)"
   ],
   "metadata": {
    "collapsed": false,
    "pycharm": {
     "name": "#%%\n"
    }
   }
  },
  {
   "cell_type": "code",
   "execution_count": 113,
   "outputs": [],
   "source": [
    "banglish_unlabeled_dataset = pd.read_csv(\"data/bangllish_unlabeled.csv\")\n",
    "banglish_unlabeled_dataset.columns = [\"text\"]\n",
    "banglish_unlabeled_dataset[\"language\"] = \"anglo-bangla\"\n",
    "\n",
    "banglish_unlabeled_dataset.to_csv('data/labeled/banglish_labeled.csv', index=False)"
   ],
   "metadata": {
    "collapsed": false,
    "pycharm": {
     "name": "#%%\n"
    }
   }
  },
  {
   "cell_type": "code",
   "execution_count": 114,
   "outputs": [],
   "source": [
    "mixed_dataset1 = pd.read_csv('data/mixDataset.csv')\n",
    "mixed_dataset1.columns = ['text', 'language']\n",
    "english_dataset1 = mixed_dataset1[mixed_dataset1['language']=='English']\n",
    "english_dataset1 = english_dataset1.apply(lambda x: x.replace('English', 'english'))\n",
    "english_dataset1.to_csv('data/labeled/english_dataset1.csv', index=False)\n"
   ],
   "metadata": {
    "collapsed": false,
    "pycharm": {
     "name": "#%%\n"
    }
   }
  },
  {
   "cell_type": "code",
   "execution_count": 115,
   "outputs": [],
   "source": [
    "mixed_dataset2 = pd.read_csv('data/mixed_dataset2.csv')\n",
    "mixed_dataset2.columns = ['text', 'language']\n",
    "english_dataset2 = mixed_dataset2[mixed_dataset2['language']=='English']\n",
    "english_dataset2 = english_dataset2.apply(lambda x: x.replace('English', 'english'))\n",
    "english_dataset2.to_csv('data/labeled/english_dataset2.csv', index=False)"
   ],
   "metadata": {
    "collapsed": false,
    "pycharm": {
     "name": "#%%\n"
    }
   }
  },
  {
   "cell_type": "code",
   "execution_count": 116,
   "outputs": [],
   "source": [
    "english_quotes = pd.read_csv('data/english_quotes.csv')\n",
    "english_quotes = english_quotes['Quote']\n",
    "english_quotes = english_quotes.to_frame()\n",
    "english_quotes = english_quotes['Quote'].apply(lambda x: x.replace('“', '')).to_frame()\n",
    "english_quotes.columns = ['text']\n",
    "english_quotes['language'] = 'english'\n",
    "english_quotes.to_csv('data/english_dataset3.csv', index=False)\n",
    "# for index, value in english_quotes.items():\n",
    "#     print(value.replace('“', ''))"
   ],
   "metadata": {
    "collapsed": false,
    "pycharm": {
     "name": "#%%\n"
    }
   }
  },
  {
   "cell_type": "code",
   "execution_count": 117,
   "outputs": [],
   "source": [
    "english_dataset4 = pd.read_csv(\"data/English_phrases_and_sayings.csv\")\n",
    "english_dataset4 = english_dataset4['text'].to_frame()\n",
    "english_dataset4['language'] = 'english'\n",
    "english_dataset4.to_csv(\"data/labeled/english_dataset4\")"
   ],
   "metadata": {
    "collapsed": false,
    "pycharm": {
     "name": "#%%\n"
    }
   }
  },
  {
   "cell_type": "code",
   "execution_count": 103,
   "outputs": [
    {
     "data": {
      "text/plain": "                                                     text language\n0          ভালবাসার গল্প পড়তে এই পেইজে লাইক দেন বন্ধুত্ব    bangla\n1                           আমার অভিনিত অভিনয়ে সুযোগ চাই    bangla\n2                   না বলা ভালোবাসা কিন্তু খুবই ভাল পোলা    bangla\n3                           আবারও লেট হয়ছে মিনিট সেকেন্ড    bangla\n4        জগন্নাথের শিক্ষার্থীরা এটা মেনে নিবে না। এটা ...   bangla\n...                                                   ...      ...\n299994   নাউযুবিল্লাহ মুসলমান হয়ে এরকম একজন দুচরিত্রাক...   bangla\n299995   এই সালারা সব ফাজিল চোদা যতসব ফালতু চোদা নিউজ ...   bangla\n299996              বিয়ে করে হক পথে আনো তাহলে আপত্তি নাই    bangla\n299997   ফেসবুকটা ভুয়া খবর প্রচার কইরা খাইলো এই খানকির...   bangla\n299998   অ ভাই আমির ও কে বিয়ে করে কোন লাভ নাই ওর মাঝে ...   bangla\n\n[299999 rows x 2 columns]",
      "text/html": "<div>\n<style scoped>\n    .dataframe tbody tr th:only-of-type {\n        vertical-align: middle;\n    }\n\n    .dataframe tbody tr th {\n        vertical-align: top;\n    }\n\n    .dataframe thead th {\n        text-align: right;\n    }\n</style>\n<table border=\"1\" class=\"dataframe\">\n  <thead>\n    <tr style=\"text-align: right;\">\n      <th></th>\n      <th>text</th>\n      <th>language</th>\n    </tr>\n  </thead>\n  <tbody>\n    <tr>\n      <th>0</th>\n      <td>ভালবাসার গল্প পড়তে এই পেইজে লাইক দেন বন্ধুত্ব</td>\n      <td>bangla</td>\n    </tr>\n    <tr>\n      <th>1</th>\n      <td>আমার অভিনিত অভিনয়ে সুযোগ চাই</td>\n      <td>bangla</td>\n    </tr>\n    <tr>\n      <th>2</th>\n      <td>না বলা ভালোবাসা কিন্তু খুবই ভাল পোলা</td>\n      <td>bangla</td>\n    </tr>\n    <tr>\n      <th>3</th>\n      <td>আবারও লেট হয়ছে মিনিট সেকেন্ড</td>\n      <td>bangla</td>\n    </tr>\n    <tr>\n      <th>4</th>\n      <td>জগন্নাথের শিক্ষার্থীরা এটা মেনে নিবে না। এটা ...</td>\n      <td>bangla</td>\n    </tr>\n    <tr>\n      <th>...</th>\n      <td>...</td>\n      <td>...</td>\n    </tr>\n    <tr>\n      <th>299994</th>\n      <td>নাউযুবিল্লাহ মুসলমান হয়ে এরকম একজন দুচরিত্রাক...</td>\n      <td>bangla</td>\n    </tr>\n    <tr>\n      <th>299995</th>\n      <td>এই সালারা সব ফাজিল চোদা যতসব ফালতু চোদা নিউজ ...</td>\n      <td>bangla</td>\n    </tr>\n    <tr>\n      <th>299996</th>\n      <td>বিয়ে করে হক পথে আনো তাহলে আপত্তি নাই</td>\n      <td>bangla</td>\n    </tr>\n    <tr>\n      <th>299997</th>\n      <td>ফেসবুকটা ভুয়া খবর প্রচার কইরা খাইলো এই খানকির...</td>\n      <td>bangla</td>\n    </tr>\n    <tr>\n      <th>299998</th>\n      <td>অ ভাই আমির ও কে বিয়ে করে কোন লাভ নাই ওর মাঝে ...</td>\n      <td>bangla</td>\n    </tr>\n  </tbody>\n</table>\n<p>299999 rows × 2 columns</p>\n</div>"
     },
     "execution_count": 103,
     "metadata": {},
     "output_type": "execute_result"
    }
   ],
   "source": [],
   "metadata": {
    "collapsed": false,
    "pycharm": {
     "name": "#%%\n"
    }
   }
  },
  {
   "cell_type": "code",
   "execution_count": 123,
   "outputs": [],
   "source": [
    "bangla_dataset = pd.read_csv('data/labeled/bangla_labeled.csv')\n",
    "banglish_dataset = pd.read_csv('data/labeled/banglish_labeled.csv')"
   ],
   "metadata": {
    "collapsed": false,
    "pycharm": {
     "name": "#%%\n"
    }
   }
  },
  {
   "cell_type": "code",
   "execution_count": 134,
   "outputs": [
    {
     "data": {
      "text/plain": "                                                     text      language\n0        Tmr barite barate asa kono loker kisu jodi tm...  anglo-bangla\n1        আপনাদের যদি প্রশ্ন করা হয়। সে প্রশ্নের উত্তর ...        bangla\n2       Some choices are better than others and we, as...       english\n3        আজ তারিখের প্রথম আলো পত্রিকা কি এর বিজ্ঞাপন এ...        bangla\n4        আমাদের দেশে পাইলে বুঝায় দিতাম বাংঙ্গালী কি জি...        bangla\n...                                                   ...           ...\n154672                        ami to taim e bolte parina   anglo-bangla\n154673   এই মাগীডারে ভালো ভেবেছিলাম জানতাম সে জীবনে অন...        bangla\n154674          মাশাল্লাহ অসাধারণ খুব খুব সুন্দর লাগতেছে         bangla\n154675   ক্লাসরুমে এসব কি করে দেখুন।বন্ধু বলে সব করত দ...        bangla\n154676  Sudho ki tai koto guli armi Mara gese tar hisa...  anglo-bangla\n\n[154677 rows x 2 columns]",
      "text/html": "<div>\n<style scoped>\n    .dataframe tbody tr th:only-of-type {\n        vertical-align: middle;\n    }\n\n    .dataframe tbody tr th {\n        vertical-align: top;\n    }\n\n    .dataframe thead th {\n        text-align: right;\n    }\n</style>\n<table border=\"1\" class=\"dataframe\">\n  <thead>\n    <tr style=\"text-align: right;\">\n      <th></th>\n      <th>text</th>\n      <th>language</th>\n    </tr>\n  </thead>\n  <tbody>\n    <tr>\n      <th>0</th>\n      <td>Tmr barite barate asa kono loker kisu jodi tm...</td>\n      <td>anglo-bangla</td>\n    </tr>\n    <tr>\n      <th>1</th>\n      <td>আপনাদের যদি প্রশ্ন করা হয়। সে প্রশ্নের উত্তর ...</td>\n      <td>bangla</td>\n    </tr>\n    <tr>\n      <th>2</th>\n      <td>Some choices are better than others and we, as...</td>\n      <td>english</td>\n    </tr>\n    <tr>\n      <th>3</th>\n      <td>আজ তারিখের প্রথম আলো পত্রিকা কি এর বিজ্ঞাপন এ...</td>\n      <td>bangla</td>\n    </tr>\n    <tr>\n      <th>4</th>\n      <td>আমাদের দেশে পাইলে বুঝায় দিতাম বাংঙ্গালী কি জি...</td>\n      <td>bangla</td>\n    </tr>\n    <tr>\n      <th>...</th>\n      <td>...</td>\n      <td>...</td>\n    </tr>\n    <tr>\n      <th>154672</th>\n      <td>ami to taim e bolte parina</td>\n      <td>anglo-bangla</td>\n    </tr>\n    <tr>\n      <th>154673</th>\n      <td>এই মাগীডারে ভালো ভেবেছিলাম জানতাম সে জীবনে অন...</td>\n      <td>bangla</td>\n    </tr>\n    <tr>\n      <th>154674</th>\n      <td>মাশাল্লাহ অসাধারণ খুব খুব সুন্দর লাগতেছে</td>\n      <td>bangla</td>\n    </tr>\n    <tr>\n      <th>154675</th>\n      <td>ক্লাসরুমে এসব কি করে দেখুন।বন্ধু বলে সব করত দ...</td>\n      <td>bangla</td>\n    </tr>\n    <tr>\n      <th>154676</th>\n      <td>Sudho ki tai koto guli armi Mara gese tar hisa...</td>\n      <td>anglo-bangla</td>\n    </tr>\n  </tbody>\n</table>\n<p>154677 rows × 2 columns</p>\n</div>"
     },
     "execution_count": 134,
     "metadata": {},
     "output_type": "execute_result"
    }
   ],
   "source": [
    "final_dataset = pd.concat([bangla_dataset[0:70000],  banglish_dataset, english_dataset1, english_dataset2,english_quotes, english_dataset4])\n",
    "final_dataset = final_dataset.sample(frac=1)\n",
    "final_dataset.reset_index(drop=True, inplace=True)\n",
    "final_dataset"
   ],
   "metadata": {
    "collapsed": false,
    "pycharm": {
     "name": "#%%\n"
    }
   }
  },
  {
   "cell_type": "code",
   "execution_count": 135,
   "outputs": [],
   "source": [
    "final_dataset.drop_duplicates()\n",
    "final_dataset.to_csv(\"data/labeled/final_dataset.csv\", index=False)"
   ],
   "metadata": {
    "collapsed": false,
    "pycharm": {
     "name": "#%%\n"
    }
   }
  }
 ],
 "metadata": {
  "kernelspec": {
   "display_name": "Python 3",
   "language": "python",
   "name": "python3"
  },
  "language_info": {
   "codemirror_mode": {
    "name": "ipython",
    "version": 2
   },
   "file_extension": ".py",
   "mimetype": "text/x-python",
   "name": "python",
   "nbconvert_exporter": "python",
   "pygments_lexer": "ipython2",
   "version": "2.7.6"
  }
 },
 "nbformat": 4,
 "nbformat_minor": 0
}